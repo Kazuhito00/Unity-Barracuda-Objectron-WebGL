{
  "nbformat": 4,
  "nbformat_minor": 0,
  "metadata": {
    "colab": {
      "name": "01.tflite2onnx.ipynb",
      "provenance": [],
      "collapsed_sections": []
    },
    "kernelspec": {
      "name": "python3",
      "display_name": "Python 3"
    },
    "language_info": {
      "name": "python"
    }
  },
  "cells": [
    {
      "cell_type": "markdown",
      "metadata": {
        "id": "zGOnSl11oJWY"
      },
      "source": [
        "# パッケージインストール(Package install)"
      ]
    },
    {
      "cell_type": "code",
      "metadata": {
        "colab": {
          "base_uri": "https://localhost:8080/"
        },
        "id": "8ibN85HdZ5Qa",
        "outputId": "fc9b8771-4aa5-4caa-d67b-ffbca9c907bd"
      },
      "source": [
        "!pip install -U tf2onnx\n",
        "!pip install onnxruntime"
      ],
      "execution_count": 1,
      "outputs": [
        {
          "output_type": "stream",
          "text": [
            "Collecting tf2onnx\n",
            "\u001b[?25l  Downloading https://files.pythonhosted.org/packages/9e/dc/a87fe3ff16092a0bca63ce24bcc086c0f2abe7decb057829669f99a7565e/tf2onnx-1.8.5-py3-none-any.whl (370kB)\n",
            "\u001b[K     |████████████████████████████████| 378kB 7.5MB/s \n",
            "\u001b[?25hRequirement already satisfied, skipping upgrade: requests in /usr/local/lib/python3.7/dist-packages (from tf2onnx) (2.23.0)\n",
            "Requirement already satisfied, skipping upgrade: six in /usr/local/lib/python3.7/dist-packages (from tf2onnx) (1.15.0)\n",
            "Collecting onnx>=1.4.1\n",
            "\u001b[?25l  Downloading https://files.pythonhosted.org/packages/3f/9b/54c950d3256e27f970a83cd0504efb183a24312702deed0179453316dbd0/onnx-1.9.0-cp37-cp37m-manylinux2010_x86_64.whl (12.2MB)\n",
            "\u001b[K     |████████████████████████████████| 12.2MB 14.1MB/s \n",
            "\u001b[?25hRequirement already satisfied, skipping upgrade: flatbuffers~=1.12 in /usr/local/lib/python3.7/dist-packages (from tf2onnx) (1.12)\n",
            "Requirement already satisfied, skipping upgrade: numpy>=1.14.1 in /usr/local/lib/python3.7/dist-packages (from tf2onnx) (1.19.5)\n",
            "Requirement already satisfied, skipping upgrade: certifi>=2017.4.17 in /usr/local/lib/python3.7/dist-packages (from requests->tf2onnx) (2020.12.5)\n",
            "Requirement already satisfied, skipping upgrade: urllib3!=1.25.0,!=1.25.1,<1.26,>=1.21.1 in /usr/local/lib/python3.7/dist-packages (from requests->tf2onnx) (1.24.3)\n",
            "Requirement already satisfied, skipping upgrade: chardet<4,>=3.0.2 in /usr/local/lib/python3.7/dist-packages (from requests->tf2onnx) (3.0.4)\n",
            "Requirement already satisfied, skipping upgrade: idna<3,>=2.5 in /usr/local/lib/python3.7/dist-packages (from requests->tf2onnx) (2.10)\n",
            "Requirement already satisfied, skipping upgrade: typing-extensions>=3.6.2.1 in /usr/local/lib/python3.7/dist-packages (from onnx>=1.4.1->tf2onnx) (3.7.4.3)\n",
            "Requirement already satisfied, skipping upgrade: protobuf in /usr/local/lib/python3.7/dist-packages (from onnx>=1.4.1->tf2onnx) (3.12.4)\n",
            "Requirement already satisfied, skipping upgrade: setuptools in /usr/local/lib/python3.7/dist-packages (from protobuf->onnx>=1.4.1->tf2onnx) (56.1.0)\n",
            "Installing collected packages: onnx, tf2onnx\n",
            "Successfully installed onnx-1.9.0 tf2onnx-1.8.5\n",
            "Collecting onnxruntime\n",
            "\u001b[?25l  Downloading https://files.pythonhosted.org/packages/0c/f0/666d6e3ceaa276a54e728f9972732e058544cbb6a3e1a778a8d6f87132c1/onnxruntime-1.7.0-cp37-cp37m-manylinux2014_x86_64.whl (4.1MB)\n",
            "\u001b[K     |████████████████████████████████| 4.1MB 5.7MB/s \n",
            "\u001b[?25hRequirement already satisfied: numpy>=1.16.6 in /usr/local/lib/python3.7/dist-packages (from onnxruntime) (1.19.5)\n",
            "Requirement already satisfied: protobuf in /usr/local/lib/python3.7/dist-packages (from onnxruntime) (3.12.4)\n",
            "Requirement already satisfied: setuptools in /usr/local/lib/python3.7/dist-packages (from protobuf->onnxruntime) (56.1.0)\n",
            "Requirement already satisfied: six>=1.9 in /usr/local/lib/python3.7/dist-packages (from protobuf->onnxruntime) (1.15.0)\n",
            "Installing collected packages: onnxruntime\n",
            "Successfully installed onnxruntime-1.7.0\n"
          ],
          "name": "stdout"
        }
      ]
    },
    {
      "cell_type": "markdown",
      "metadata": {
        "id": "pdbnGTWpoYQc"
      },
      "source": [
        "# Objectron tfliteファイルダウンロード(Objectron tflite file download)"
      ]
    },
    {
      "cell_type": "code",
      "metadata": {
        "colab": {
          "base_uri": "https://localhost:8080/"
        },
        "id": "og-q9AGMZ90_",
        "outputId": "85ef59ac-2735-4375-db5b-9a0cfcf2c207"
      },
      "source": [
        "# !wget https://github.com/google/mediapipe/raw/master/mediapipe/modules/objectron/object_detection_3d_sneakers_1stage.tflite\n",
        "!wget https://github.com/google/mediapipe/raw/master/mediapipe/modules/objectron/object_detection_3d_sneakers.tflite"
      ],
      "execution_count": 2,
      "outputs": [
        {
          "output_type": "stream",
          "text": [
            "--2021-06-02 07:32:09--  https://github.com/google/mediapipe/raw/master/mediapipe/modules/objectron/object_detection_3d_sneakers.tflite\n",
            "Resolving github.com (github.com)... 140.82.114.3\n",
            "Connecting to github.com (github.com)|140.82.114.3|:443... connected.\n",
            "HTTP request sent, awaiting response... 302 Found\n",
            "Location: https://raw.githubusercontent.com/google/mediapipe/master/mediapipe/modules/objectron/object_detection_3d_sneakers.tflite [following]\n",
            "--2021-06-02 07:32:10--  https://raw.githubusercontent.com/google/mediapipe/master/mediapipe/modules/objectron/object_detection_3d_sneakers.tflite\n",
            "Resolving raw.githubusercontent.com (raw.githubusercontent.com)... 185.199.108.133, 185.199.109.133, 185.199.110.133, ...\n",
            "Connecting to raw.githubusercontent.com (raw.githubusercontent.com)|185.199.108.133|:443... connected.\n",
            "HTTP request sent, awaiting response... 200 OK\n",
            "Length: 5222064 (5.0M) [application/octet-stream]\n",
            "Saving to: ‘object_detection_3d_sneakers.tflite’\n",
            "\n",
            "object_detection_3d 100%[===================>]   4.98M  32.6MB/s    in 0.2s    \n",
            "\n",
            "2021-06-02 07:32:10 (32.6 MB/s) - ‘object_detection_3d_sneakers.tflite’ saved [5222064/5222064]\n",
            "\n"
          ],
          "name": "stdout"
        }
      ]
    },
    {
      "cell_type": "markdown",
      "metadata": {
        "id": "vIIgM6Yeov71"
      },
      "source": [
        "# tfliteからONNXへ変換(Convert from tflite to ONNX)"
      ]
    },
    {
      "cell_type": "code",
      "metadata": {
        "colab": {
          "base_uri": "https://localhost:8080/"
        },
        "id": "ur0GplARaBH9",
        "outputId": "9e2e2ee8-4148-4681-fbc3-65910d58fa9f"
      },
      "source": [
        "!python -m tf2onnx.convert --opset 9 \\\n",
        "    --tflite object_detection_3d_sneakers.tflite \\\n",
        "    --output object_detection_3d_sneakers.onnx"
      ],
      "execution_count": 3,
      "outputs": [
        {
          "output_type": "stream",
          "text": [
            "2021-06-02 07:32:50.844364: I tensorflow/stream_executor/platform/default/dso_loader.cc:53] Successfully opened dynamic library libcudart.so.11.0\n",
            "/usr/lib/python3.7/runpy.py:125: RuntimeWarning: 'tf2onnx.convert' found in sys.modules after import of package 'tf2onnx', but prior to execution of 'tf2onnx.convert'; this may result in unpredictable behaviour\n",
            "  warn(RuntimeWarning(msg))\n",
            "2021-06-02 07:32:52.227886: I tensorflow/stream_executor/platform/default/dso_loader.cc:53] Successfully opened dynamic library libcuda.so.1\n",
            "2021-06-02 07:32:52.279519: E tensorflow/stream_executor/cuda/cuda_driver.cc:328] failed call to cuInit: CUDA_ERROR_NO_DEVICE: no CUDA-capable device is detected\n",
            "2021-06-02 07:32:52.279577: I tensorflow/stream_executor/cuda/cuda_diagnostics.cc:156] kernel driver does not appear to be running on this host (14fe3930bdc2): /proc/driver/nvidia/version does not exist\n",
            "2021-06-02 07:32:52.280141: I tensorflow/core/platform/cpu_feature_guard.cc:142] This TensorFlow binary is optimized with oneAPI Deep Neural Network Library (oneDNN) to use the following CPU instructions in performance-critical operations:  AVX512F\n",
            "To enable them in other operations, rebuild TensorFlow with the appropriate compiler flags.\n",
            "2021-06-02 07:32:52,285 - INFO - Using tensorflow=2.5.0, onnx=1.9.0, tf2onnx=1.8.5/50049d\n",
            "2021-06-02 07:32:52,286 - INFO - Using opset <onnx, 9>\n",
            "2021-06-02 07:32:52,579 - INFO - Optimizing ONNX model\n",
            "2021-06-02 07:32:53,273 - INFO - After optimization: Cast -98 (98->0), Const -17 (115->98), GlobalAveragePool +1 (0->1), Identity -2 (2->0), ReduceMean -1 (1->0), Reshape -16 (16->0), Squeeze +1 (0->1), Transpose -189 (190->1)\n",
            "2021-06-02 07:32:53,298 - INFO - \n",
            "2021-06-02 07:32:53,298 - INFO - Successfully converted TensorFlow model object_detection_3d_sneakers.tflite to ONNX\n",
            "2021-06-02 07:32:53,299 - INFO - Model inputs: ['input_1']\n",
            "2021-06-02 07:32:53,299 - INFO - Model outputs: ['Identity_1', 'Identity']\n",
            "2021-06-02 07:32:53,299 - INFO - ONNX model is saved at object_detection_3d_sneakers.onnx\n"
          ],
          "name": "stdout"
        }
      ]
    },
    {
      "cell_type": "markdown",
      "metadata": {
        "id": "BtB7uCY7klI9"
      },
      "source": [
        "# 入力詳細・出力詳細確認(Check Input details & Output details)"
      ]
    },
    {
      "cell_type": "code",
      "metadata": {
        "id": "uidNG876cP3C"
      },
      "source": [
        "import onnxruntime\n",
        "onnx_session = onnxruntime.InferenceSession('object_detection_3d_sneakers.onnx')"
      ],
      "execution_count": 4,
      "outputs": []
    },
    {
      "cell_type": "code",
      "metadata": {
        "id": "QdaY3dX2kkCy",
        "colab": {
          "base_uri": "https://localhost:8080/"
        },
        "outputId": "49ff2234-1ea8-4c3a-af48-b016a0aa35a5"
      },
      "source": [
        "input_detail = onnx_session.get_inputs()\n",
        "output_detail = onnx_session.get_outputs()\n",
        "print(len(input_detail), len(output_detail))"
      ],
      "execution_count": 7,
      "outputs": [
        {
          "output_type": "stream",
          "text": [
            "1 2\n"
          ],
          "name": "stdout"
        }
      ]
    },
    {
      "cell_type": "code",
      "metadata": {
        "colab": {
          "base_uri": "https://localhost:8080/"
        },
        "id": "rzHCckruk4yw",
        "outputId": "c21c2444-c800-44dd-c7b7-3ca7f6cd6fc0"
      },
      "source": [
        "print(input_detail[0])"
      ],
      "execution_count": 6,
      "outputs": [
        {
          "output_type": "stream",
          "text": [
            "NodeArg(name='input_1', type='tensor(float)', shape=['unk__630', 224, 224, 3])\n"
          ],
          "name": "stdout"
        }
      ]
    },
    {
      "cell_type": "code",
      "metadata": {
        "colab": {
          "base_uri": "https://localhost:8080/"
        },
        "id": "ImX4C3-Jk6S-",
        "outputId": "7dfb3f21-2469-4451-b8a4-a032ee6ed1f1"
      },
      "source": [
        "print(output_detail[0])"
      ],
      "execution_count": 8,
      "outputs": [
        {
          "output_type": "stream",
          "text": [
            "NodeArg(name='Identity_1', type='tensor(float)', shape=['unk__631', 18])\n"
          ],
          "name": "stdout"
        }
      ]
    },
    {
      "cell_type": "code",
      "metadata": {
        "colab": {
          "base_uri": "https://localhost:8080/"
        },
        "id": "0GFQbSzdk76U",
        "outputId": "7ee71a55-d02e-4775-943c-d8cc90de543d"
      },
      "source": [
        "print(output_detail[1])"
      ],
      "execution_count": 9,
      "outputs": [
        {
          "output_type": "stream",
          "text": [
            "NodeArg(name='Identity', type='tensor(float)', shape=['unk__632', 1])\n"
          ],
          "name": "stdout"
        }
      ]
    },
    {
      "cell_type": "code",
      "metadata": {
        "id": "qvBLsf7tljvQ"
      },
      "source": [
        ""
      ],
      "execution_count": null,
      "outputs": []
    }
  ]
}